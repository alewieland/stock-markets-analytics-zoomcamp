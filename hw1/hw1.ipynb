{
 "cells": [
  {
   "cell_type": "markdown",
   "metadata": {
    "colab": {
     "base_uri": "https://localhost:8080/"
    },
    "id": "7_BfcEi2ZQwz",
    "outputId": "b9f970e5-f339-488f-dff7-a58897d4c18b"
   },
   "source": [
    "### # Homework 1"
   ]
  },
  {
   "cell_type": "code",
   "execution_count": 179,
   "metadata": {
    "id": "upIkgS85ZLbF"
   },
   "outputs": [],
   "source": [
    "# IMPORTS\n",
    "import numpy as np\n",
    "import pandas as pd\n",
    "\n",
    "#Fin Data Sources\n",
    "import yfinance as yf\n",
    "import pandas_datareader as pdr\n",
    "\n",
    "#Data viz\n",
    "import plotly.graph_objs as go\n",
    "import plotly.express as px\n",
    "\n",
    "import time\n",
    "from datetime import date, datetime, timedelta\n"
   ]
  },
  {
   "cell_type": "markdown",
   "metadata": {},
   "source": [
    "## Question 1: [Macro] Average growth of GDP in 2023\n",
    "\n",
    "What is the average growth (in %) of GDP in 2023?\n",
    "\n",
    "Download the timeseries Real Gross Domestic Product (GDPC1) from FRED (https://fred.stlouisfed.org/series/GDPC1). Calculate year-over-year (YoY) growth rate (that is, divide current value to one 4 quarters ago). Find the average YoY growth in 2023 (average from 4 YoY numbers). Round to 1 digit after the decimal point: e.g. if you get 5.66% growth => you should answer 5.7"
   ]
  },
  {
   "cell_type": "code",
   "execution_count": 8,
   "metadata": {},
   "outputs": [
    {
     "name": "stdout",
     "output_type": "stream",
     "text": [
      "Year = 2024; month= 4; day=19\n",
      "Period for indexes: 1954-04-19 to 2024-04-19 \n"
     ]
    }
   ],
   "source": [
    "end = date.today()\n",
    "print(f'Year = {end.year}; month= {end.month}; day={end.day}')\n",
    "\n",
    "start = date(year=end.year-70, month=end.month, day=end.day)\n",
    "print(f'Period for indexes: {start} to {end} ')"
   ]
  },
  {
   "cell_type": "code",
   "execution_count": 9,
   "metadata": {},
   "outputs": [
    {
     "data": {
      "text/html": [
       "<div>\n",
       "<style scoped>\n",
       "    .dataframe tbody tr th:only-of-type {\n",
       "        vertical-align: middle;\n",
       "    }\n",
       "\n",
       "    .dataframe tbody tr th {\n",
       "        vertical-align: top;\n",
       "    }\n",
       "\n",
       "    .dataframe thead th {\n",
       "        text-align: right;\n",
       "    }\n",
       "</style>\n",
       "<table border=\"1\" class=\"dataframe\">\n",
       "  <thead>\n",
       "    <tr style=\"text-align: right;\">\n",
       "      <th></th>\n",
       "      <th>GDPC1</th>\n",
       "    </tr>\n",
       "    <tr>\n",
       "      <th>DATE</th>\n",
       "      <th></th>\n",
       "    </tr>\n",
       "  </thead>\n",
       "  <tbody>\n",
       "    <tr>\n",
       "      <th>2022-10-01</th>\n",
       "      <td>21989.981</td>\n",
       "    </tr>\n",
       "    <tr>\n",
       "      <th>2023-01-01</th>\n",
       "      <td>22112.329</td>\n",
       "    </tr>\n",
       "    <tr>\n",
       "      <th>2023-04-01</th>\n",
       "      <td>22225.350</td>\n",
       "    </tr>\n",
       "    <tr>\n",
       "      <th>2023-07-01</th>\n",
       "      <td>22490.692</td>\n",
       "    </tr>\n",
       "    <tr>\n",
       "      <th>2023-10-01</th>\n",
       "      <td>22679.255</td>\n",
       "    </tr>\n",
       "  </tbody>\n",
       "</table>\n",
       "</div>"
      ],
      "text/plain": [
       "                GDPC1\n",
       "DATE                 \n",
       "2022-10-01  21989.981\n",
       "2023-01-01  22112.329\n",
       "2023-04-01  22225.350\n",
       "2023-07-01  22490.692\n",
       "2023-10-01  22679.255"
      ]
     },
     "execution_count": 9,
     "metadata": {},
     "output_type": "execute_result"
    }
   ],
   "source": [
    "# Real Gross Domestic Product (GDPC1) \n",
    "# https://fred.stlouisfed.org/series/GDPC1\n",
    "gdpc1 = pdr.DataReader(\"GDPC1\", \"fred\", start=start)\n",
    "gdpc1.tail(5)\n"
   ]
  },
  {
   "cell_type": "code",
   "execution_count": 10,
   "metadata": {},
   "outputs": [
    {
     "name": "stdout",
     "output_type": "stream",
     "text": [
      "The mean real GDP growth YoY for the us is 2.5%\n"
     ]
    }
   ],
   "source": [
    "gdpc1['gdpc1_us_yoy'] = gdpc1.GDPC1/gdpc1.GDPC1.shift(4)-1\n",
    "mean_gdpc1 = gdpc1['gdpc1_us_yoy'][-4:].mean()*100\n",
    "print(f\"The mean real GDP growth YoY for the us is {mean_gdpc1:2.1f}%\")"
   ]
  },
  {
   "cell_type": "markdown",
   "metadata": {},
   "source": [
    "## Question 2. [Macro] Inverse \"Treasury Yield\"\n",
    "\n",
    "Find the min value of (dgs10-dgs2) after since year 2000 (2000-01-01) and write it down as an answer, round to 1 digit after the decimal point.\n",
    "\n",
    "Download DGS2 and DGS10 interest rates series (https://fred.stlouisfed.org/series/DGS2, https://fred.stlouisfed.org/series/DGS10). Join them together to one dataframe on date (you might need to read about pandas.DataFrame.join()), calculate the difference dgs10-dgs2 daily.\n",
    "\n",
    "(Additional: think about what does the \"inverted yield curve\" mean for the market and investors? do you see the same thing in your country/market of interest? Do you think it can be a good predictive feature for the models?)"
   ]
  },
  {
   "cell_type": "code",
   "execution_count": 29,
   "metadata": {},
   "outputs": [
    {
     "name": "stdout",
     "output_type": "stream",
     "text": [
      "The maximum inversion was on 2023-07-03 at -1.1\n"
     ]
    }
   ],
   "source": [
    "start = date(year=2000, month=1, day=1)\n",
    "\n",
    "dgs = pdr.DataReader(['dgs2', 'dgs10'], \"fred\", start=start)\n",
    "dgs.tail(5)\n",
    "dgs['inv'] = dgs.dgs10 - dgs.dgs2\n",
    "print(f'The maximum inversion was on {dgs.inv.idxmin().date()} at {dgs.inv.min():.1f}')"
   ]
  },
  {
   "cell_type": "markdown",
   "metadata": {},
   "source": [
    "This means borrowing money on a shorter term is more expensive. Usually, the yield of longer term debt is higher, because investors don't have the same \"flexibility\" compared to the shorter term contract.\n",
    "This can be a very good predictor for economic growth (as shown in this old [paper](https://users.ssc.wisc.edu/~mchinn/Harvey_yieldcurve_FAJ1989.pdf)), which certainly influences the valuation of stock prices."
   ]
  },
  {
   "cell_type": "markdown",
   "metadata": {},
   "source": [
    "## Question 3. [Index] Which Index is better recently?\n",
    "\n",
    "Compare S&P 500 and IPC Mexico indexes by the 5 year growth and write down the largest value as an answer (%)\n",
    "\n",
    "Download on Yahoo Finance two daily index prices for S&P 500 (^GSPC, https://finance.yahoo.com/quote/%5EGSPC/) and IPC Mexico (^MXX, https://finance.yahoo.com/quote/%5EMXX/). Compare 5Y growth for both (between 2019-04-09 and 2024-04-09). Select the higher growing index and write down the growth in % (closest integer %). E.g. if ratio end/start was 2.0925 (or growth of 109.25%), you need to write down 109 as your answer.\n",
    "\n",
    "(Additional: think of other indexes and try to download stats and compare the growth? Do create 10Y and 20Y growth stats. What is an average yearly growth rate (CAGR) for each of the indexes you select?)"
   ]
  },
  {
   "cell_type": "code",
   "execution_count": 34,
   "metadata": {},
   "outputs": [
    {
     "name": "stderr",
     "output_type": "stream",
     "text": [
      "[*********************100%%**********************]  2 of 2 completed\n"
     ]
    }
   ],
   "source": [
    "start=\"2019-04-09\"\n",
    "end=\"2024-04-09\"\n",
    "\n",
    "index_daily = yf.download(tickers = [\"^GSPC\", \"^MXX\"],\n",
    "                     start=start,\n",
    "                     end=end,\n",
    "                     interval = \"1d\")"
   ]
  },
  {
   "cell_type": "code",
   "execution_count": 68,
   "metadata": {},
   "outputs": [
    {
     "name": "stdout",
     "output_type": "stream",
     "text": [
      "The growth for the S&P 500 between 2019-04-09 and 2024-04-09 is 80%.\n",
      "The growth for the IPC Mexico  between 2019-04-09 and 2024-04-09 is 28%.\n",
      "\n",
      "The cagr for the S&P 500 between 2019-04-09 and 2024-04-09 is 13%.\n",
      "The cagr for the IPC Mexico  between 2019-04-09 and 2024-04-09 is 5%.\n"
     ]
    }
   ],
   "source": [
    "mean_growth = (index_daily.Close.iloc[-1] / index_daily.Open.iloc[0] -1)*100\n",
    "\n",
    "print(f\"The growth for the S&P 500 between {start} and {end} is {mean_growth['^GSPC']:.0f}%.\")\n",
    "print(f\"The growth for the IPC Mexico  between {start} and {end} is {mean_growth['^MXX']:.0f}%.\\n\")\n",
    "\n",
    "cagr = ((index_daily.Close.iloc[-1] / index_daily.Open.iloc[0])**(1/5) -1)*100\n",
    "\n",
    "print(f\"The cagr for the S&P 500 between {start} and {end} is {cagr['^GSPC']:.0f}%.\")\n",
    "print(f\"The cagr for the IPC Mexico  between {start} and {end} is {cagr['^MXX']:.0f}%.\")"
   ]
  },
  {
   "cell_type": "markdown",
   "metadata": {},
   "source": [
    "## Question 4. [Stocks OHLCV] 52-weeks range ratio (2023) for the selected stocks\n",
    "\n",
    "Find the largest range ratio [=(max-min)/max] of Adj.Close prices in 2023\n",
    "\n",
    "Download the 2023 daily OHLCV data on Yahoo Finance for top6 stocks on earnings (https://companiesmarketcap.com/most-profitable-companies/): 2222.SR,BRK-B, AAPL, MSFT, GOOG, JPM.\n",
    "\n",
    "Here is the example data you should see in Pandas for \"2222.SR\": https://finance.yahoo.com/quote/2222.SR/history\n",
    "\n",
    "Calculate maximum-minimim \"Adj.Close\" price for each stock and divide it by the maximum \"Adj.Close\" value. Round the result to two decimal places (e.g. 0.1575 will be 0.16)\n",
    "\n",
    "(Additional: why this may be important for your research?)"
   ]
  },
  {
   "cell_type": "code",
   "execution_count": 131,
   "metadata": {},
   "outputs": [
    {
     "name": "stderr",
     "output_type": "stream",
     "text": [
      "[*********************100%%**********************]  6 of 6 completed\n"
     ]
    }
   ],
   "source": [
    "tickers = ['2222.SR','BRK-B', 'AAPL', 'MSFT', 'GOOG', 'JPM']\n",
    "\n",
    "start=\"2023-01-01\"\n",
    "end=\"2023-12-31\"\n",
    "\n",
    "stocks = yf.download(tickers = tickers,\n",
    "                     start=start,\n",
    "                     end=end,\n",
    "                     interval = \"1d\")"
   ]
  },
  {
   "cell_type": "code",
   "execution_count": 86,
   "metadata": {},
   "outputs": [
    {
     "data": {
      "text/plain": [
       "Ticker\n",
       "2222.SR    0.21\n",
       "AAPL       0.37\n",
       "BRK-B      0.21\n",
       "GOOG       0.39\n",
       "JPM        0.28\n",
       "MSFT       0.42\n",
       "dtype: float64"
      ]
     },
     "execution_count": 86,
     "metadata": {},
     "output_type": "execute_result"
    }
   ],
   "source": [
    "rel_stocks = (stocks['Adj Close'] - stocks['Adj Close'].min(axis=0)) / stocks['Adj Close'].max(axis=0)\n",
    "\n",
    "rel_stocks.max(axis=0).round(2)"
   ]
  },
  {
   "cell_type": "markdown",
   "metadata": {},
   "source": [
    "This metric gives a feeling for the appreciation of the stock in the given timeframe. E.g. if a stock from the same sector did not appreciate by the same amount compeared to the mean of the sector, this stock would be \"underperforming\". There might me a reason, there might not be."
   ]
  },
  {
   "cell_type": "markdown",
   "metadata": {},
   "source": [
    "## Question 5. [Stocks] Dividend Yield\n",
    "\n",
    "Find the largest dividend yield for the same set of stocks\n",
    "\n",
    "Use the same list of companies (2222.SR,BRK-B, AAPL, MSFT, GOOG, JPM) and download all dividends paid in 2023. You can use get_actions() method or .dividends field in yfinance library (https://github.com/ranaroussi/yfinance?tab=readme-ov-file#quick-start)\n",
    "\n",
    "Sum up all dividends paid in 2023 per company and divide each value by the closing price (Adj.Close) at the last trading day of the year.\n",
    "\n",
    "Find the maximm value in % and round to 1 digit after the decimal point. (E.g., if you obtained $1.25 dividends paid and the end year stock price is $100, the dividend yield is 1.25% -- and your answer should be equal to 1.3)"
   ]
  },
  {
   "cell_type": "code",
   "execution_count": 121,
   "metadata": {},
   "outputs": [],
   "source": []
  },
  {
   "cell_type": "code",
   "execution_count": 128,
   "metadata": {},
   "outputs": [
    {
     "name": "stdout",
     "output_type": "stream",
     "text": [
      "                            2222.SR  BRK-B  AAPL  MSFT  GOOG   JPM\n",
      "2023-01-05 00:00:00-05:00  0.000000    0.0  0.00  0.00   0.0  1.00\n",
      "2023-02-10 00:00:00-05:00  0.000000    0.0  0.23  0.00   0.0  0.00\n",
      "2023-02-15 00:00:00-05:00  0.000000    0.0  0.00  0.68   0.0  0.00\n",
      "2023-03-15 00:00:00+03:00  0.302364    0.0  0.00  0.00   0.0  0.00\n",
      "2023-04-05 00:00:00-04:00  0.000000    0.0  0.00  0.00   0.0  1.00\n",
      "2023-05-12 00:00:00-04:00  0.000000    0.0  0.24  0.00   0.0  0.00\n",
      "2023-05-17 00:00:00+03:00  0.302400    0.0  0.00  0.00   0.0  0.00\n",
      "2023-05-17 00:00:00-04:00  0.000000    0.0  0.00  0.68   0.0  0.00\n",
      "2023-07-05 00:00:00-04:00  0.000000    0.0  0.00  0.00   0.0  1.00\n",
      "2023-08-11 00:00:00-04:00  0.000000    0.0  0.24  0.00   0.0  0.00\n",
      "2023-08-16 00:00:00-04:00  0.000000    0.0  0.00  0.68   0.0  0.00\n",
      "2023-09-11 00:00:00+03:00  0.153000    0.0  0.00  0.00   0.0  0.00\n",
      "2023-10-05 00:00:00-04:00  0.000000    0.0  0.00  0.00   0.0  1.05\n",
      "2023-11-10 00:00:00-05:00  0.000000    0.0  0.24  0.00   0.0  0.00\n",
      "2023-11-15 00:00:00+03:00  0.153000    0.0  0.00  0.00   0.0  0.00\n",
      "2023-11-15 00:00:00-05:00  0.000000    0.0  0.00  0.75   0.0  0.00\n"
     ]
    }
   ],
   "source": [
    "tickers = ['2222.SR','BRK-B', 'AAPL', 'MSFT', 'GOOG', 'JPM']\n",
    "\n",
    "#Define the period for which you want the dividend data\n",
    "start_date = \"2023-01-01\"\n",
    "end_date = \"2023-12-31\"\n",
    "\n",
    "# Initialize Tickers object with all tickers\n",
    "stocks = yf.Tickers(\" \".join(tickers))\n",
    "\n",
    "# Create an empty DataFrame to store dividend data\n",
    "dividends_df = pd.DataFrame()\n",
    "\n",
    "# Download and extract dividend data for each ticker\n",
    "for ticker in tickers:\n",
    "    dividends = stocks.tickers[ticker].dividends.loc[start_date:end_date]\n",
    "    # Ensure dividends are labeled by their payment date and ticker\n",
    "    dividends.name = ticker\n",
    "    # Join each new Series to the existing DataFrame, aligning on dates\n",
    "    dividends_df = pd.concat([dividends_df, dividends], axis=1)\n",
    "\n",
    "# Fill NaN values with 0, assuming no dividend was paid on that date\n",
    "dividends_df.fillna(0, inplace=True)\n",
    "dividends_df.sort_index(inplace=True)\n",
    "\n",
    "# Display the resulting DataFrame\n",
    "print(dividends_df)"
   ]
  },
  {
   "cell_type": "code",
   "execution_count": 176,
   "metadata": {},
   "outputs": [
    {
     "name": "stdout",
     "output_type": "stream",
     "text": [
      "The dividend yield for 2222.SR is 2.8%\n",
      "The dividend yield for AAPL is 0.5%\n",
      "The dividend yield for BRK-B is 0.0%\n",
      "The dividend yield for GOOG is 0.0%\n",
      "The dividend yield for JPM is 2.4%\n",
      "The dividend yield for MSFT is 0.7%\n"
     ]
    }
   ],
   "source": [
    "# Retrieve the last non-NaN value from each column and form a new DataFrame\n",
    "def last_valid_in_df(dataframe):\n",
    "    last_valid = {}\n",
    "    for column in dataframe.columns:\n",
    "        # Drop NaN values from the column and retrieve the last valid value\n",
    "        cleaned_series = dataframe[column].dropna()\n",
    "        if not cleaned_series.empty:\n",
    "            last_valid[column] = cleaned_series.iloc[-1]\n",
    "        else:\n",
    "            last_valid[column] = np.nan  # Handling the case where the column is all NaN\n",
    "\n",
    "    # Convert the dictionary to a DataFrame\n",
    "    result_df = pd.DataFrame([last_valid])  # Note the [last_valid] to make it a row in the DataFrame\n",
    "    return result_df\n",
    "\n",
    "# Apply the function to the DataFrame\n",
    "last_valid_df = last_valid_in_df(stocks.Close)\n",
    "\n",
    "div_yield = dividends_df.sum(axis=0) / last_valid_df * 100\n",
    "\n",
    "for column in div_yield.columns:\n",
    "    print(f\"The dividend yield for {column} is {div_yield[column].iloc[0]:.1f}%\")\n"
   ]
  },
  {
   "cell_type": "markdown",
   "metadata": {},
   "source": [
    "## Question 6. [Exploratory] Investigate new metrics\n",
    "\n",
    "Free text answer\n",
    "\n",
    "Download and explore a few additional metrics or time series that might be valuable for your project and write down why (briefly)."
   ]
  },
  {
   "cell_type": "markdown",
   "metadata": {},
   "source": [
    "check the correlation of different sectors based on different market regimes (CPI, interest rates, Real GDP) & Analyse future data (roll yield on different commodities with possible hedges)"
   ]
  },
  {
   "cell_type": "markdown",
   "metadata": {},
   "source": [
    "## Question 7. [Exploratory] Time-driven strategy description around earnings releases\n",
    "\n",
    "Free text answer\n",
    "\n",
    "Explore earning dates for the whole month of April - e.g. using YahooFinance earnings calendar (https://finance.yahoo.com/calendar/earnings?from=2024-04-21&to=2024-04-27&day=2024-04-23). Compare with the previous closed earnings (e.g., recent dates with full data https://finance.yahoo.com/calendar/earnings?from=2024-04-07&to=2024-04-13&day=2024-04-08).\n",
    "\n",
    "Describe an analytical strategy/idea (you're not required to implement it) to select a subset companies of interest based on the future events data."
   ]
  },
  {
   "cell_type": "markdown",
   "metadata": {},
   "source": [
    "If a company of a sector reports strong earning, it might be likely another company from the same sector might also post good results."
   ]
  },
  {
   "cell_type": "markdown",
   "metadata": {},
   "source": []
  }
 ],
 "metadata": {
  "colab": {
   "collapsed_sections": [
    "_sMONMJHjXkM"
   ],
   "provenance": []
  },
  "kernelspec": {
   "display_name": "Python 3 (ipykernel)",
   "language": "python",
   "name": "python3"
  },
  "language_info": {
   "codemirror_mode": {
    "name": "ipython",
    "version": 3
   },
   "file_extension": ".py",
   "mimetype": "text/x-python",
   "name": "python",
   "nbconvert_exporter": "python",
   "pygments_lexer": "ipython3",
   "version": "3.11.2"
  }
 },
 "nbformat": 4,
 "nbformat_minor": 4
}
